{
 "cells": [
  {
   "cell_type": "code",
   "execution_count": null,
   "id": "0cf03a81",
   "metadata": {},
   "outputs": [],
   "source": [
    "import pandas as pd\n",
    "import cv2 \n",
    "import tensorflow\n",
    "import os\n",
    "import math"
   ]
  },
  {
   "cell_type": "markdown",
   "id": "37d5d9d9",
   "metadata": {},
   "source": [
    "Dividing the data into train, test and validation"
   ]
  },
  {
   "cell_type": "code",
   "execution_count": null,
   "id": "eea35f85",
   "metadata": {},
   "outputs": [
    {
     "name": "stdout",
     "output_type": "stream",
     "text": [
      "Created: data\\train\\benign\n",
      "Created: data\\train\\malignant\n",
      "Created: data\\val\\benign\n",
      "Created: data\\val\\malignant\n",
      "Created: data\\test\\benign\n",
      "Created: data\\test\\malignant\n"
     ]
    },
    {
     "ename": "FileNotFoundError",
     "evalue": "Directory not found: pic\\benign. Please check your SOURCE_DIR configuration.",
     "output_type": "error",
     "traceback": [
      "\u001b[31m---------------------------------------------------------------------------\u001b[39m",
      "\u001b[31mFileNotFoundError\u001b[39m                         Traceback (most recent call last)",
      "\u001b[36mCell\u001b[39m\u001b[36m \u001b[39m\u001b[32mIn[14]\u001b[39m\u001b[32m, line 78\u001b[39m\n\u001b[32m     75\u001b[39m create_directory_structure()\n\u001b[32m     77\u001b[39m \u001b[38;5;66;03m# Split and copy files\u001b[39;00m\n\u001b[32m---> \u001b[39m\u001b[32m78\u001b[39m \u001b[43msplit_and_copy\u001b[49m\u001b[43m(\u001b[49m\u001b[43m)\u001b[49m\n\u001b[32m     80\u001b[39m \u001b[38;5;66;03m# Verify results\u001b[39;00m\n\u001b[32m     81\u001b[39m verify_splits()\n",
      "\u001b[36mCell\u001b[39m\u001b[36m \u001b[39m\u001b[32mIn[14]\u001b[39m\u001b[32m, line 26\u001b[39m, in \u001b[36msplit_and_copy\u001b[39m\u001b[34m()\u001b[39m\n\u001b[32m     24\u001b[39m \u001b[38;5;66;03m# Verify source directory exists\u001b[39;00m\n\u001b[32m     25\u001b[39m \u001b[38;5;28;01mif\u001b[39;00m \u001b[38;5;129;01mnot\u001b[39;00m os.path.exists(class_path):\n\u001b[32m---> \u001b[39m\u001b[32m26\u001b[39m     \u001b[38;5;28;01mraise\u001b[39;00m \u001b[38;5;167;01mFileNotFoundError\u001b[39;00m(\u001b[33mf\u001b[39m\u001b[33m\"\u001b[39m\u001b[33mDirectory not found: \u001b[39m\u001b[38;5;132;01m{\u001b[39;00mclass_path\u001b[38;5;132;01m}\u001b[39;00m\u001b[33m. Please check your SOURCE_DIR configuration.\u001b[39m\u001b[33m\"\u001b[39m)\n\u001b[32m     28\u001b[39m \u001b[38;5;66;03m# Get list of files for current class\u001b[39;00m\n\u001b[32m     29\u001b[39m files = [f \u001b[38;5;28;01mfor\u001b[39;00m f \u001b[38;5;129;01min\u001b[39;00m os.listdir(class_path) \n\u001b[32m     30\u001b[39m         \u001b[38;5;28;01mif\u001b[39;00m os.path.isfile(os.path.join(class_path, f))]\n",
      "\u001b[31mFileNotFoundError\u001b[39m: Directory not found: pic\\benign. Please check your SOURCE_DIR configuration."
     ]
    }
   ],
   "source": [
    "#I divided it before so i can't divide  itagain\n",
    "import os\n",
    "import shutil\n",
    "from sklearn.model_selection import train_test_split\n",
    "\n",
    "# Updated Configuration - CHANGE THESE PATHS!\n",
    "SOURCE_DIR = 'pic'  # Changed from 'raw_data' to 'pic' based on your error\n",
    "DEST_DIR = 'data'\n",
    "CLASSES = ['benign', 'malignant']\n",
    "SPLIT_RATIOS = (0.7, 0.15, 0.15)  # Train, Val, Test\n",
    "\n",
    "def create_directory_structure():\n",
    "    \"\"\"Create empty directory structure\"\"\"\n",
    "    for split in ['train', 'val', 'test']:\n",
    "        for cls in CLASSES:\n",
    "            path = os.path.join(DEST_DIR, split, cls)\n",
    "            os.makedirs(path, exist_ok=True)\n",
    "            print(f'Created: {path}')\n",
    "\n",
    "def split_and_copy():\n",
    "    \"\"\"Split data and copy to destination directories\"\"\"\n",
    "    for cls in CLASSES:\n",
    "        class_path = os.path.join(SOURCE_DIR, cls)\n",
    "        \n",
    "        # Verify source directory exists\n",
    "        if not os.path.exists(class_path):\n",
    "            raise FileNotFoundError(f\"Directory not found: {class_path}. Please check your SOURCE_DIR configuration.\")\n",
    "            \n",
    "        # Get list of files for current class\n",
    "        files = [f for f in os.listdir(class_path) \n",
    "                if os.path.isfile(os.path.join(class_path, f))]\n",
    "        print(f'\\nProcessing {cls}: {len(files)} images in {class_path}')\n",
    "        \n",
    "        # Split into train, temp (val+test)\n",
    "        train_files, temp_files = train_test_split(\n",
    "            files,\n",
    "            test_size=SPLIT_RATIOS[1] + SPLIT_RATIOS[2],\n",
    "            random_state=42\n",
    "        )\n",
    "        \n",
    "        # Split temp into val and test\n",
    "        val_files, test_files = train_test_split(\n",
    "            temp_files,\n",
    "            test_size=SPLIT_RATIOS[2]/(SPLIT_RATIOS[1]+SPLIT_RATIOS[2]),\n",
    "            random_state=42\n",
    "        )\n",
    "        \n",
    "        # Copy files to destination\n",
    "        def copy_files(files, split):\n",
    "            src_dir = os.path.join(SOURCE_DIR, cls)\n",
    "            dst_dir = os.path.join(DEST_DIR, split, cls)\n",
    "            for f in files:\n",
    "                shutil.copy(os.path.join(src_dir, f), dst_dir)\n",
    "        \n",
    "        copy_files(train_files, 'train')\n",
    "        copy_files(val_files, 'val')\n",
    "        copy_files(test_files, 'test')\n",
    "        \n",
    "        print(f'Train: {len(train_files)}')\n",
    "        print(f'Val: {len(val_files)}')\n",
    "        print(f'Test: {len(test_files)}')\n",
    "\n",
    "def verify_splits():\n",
    "    \"\"\"Verify final distribution\"\"\"\n",
    "    print('\\nFinal verification:')\n",
    "    for split in ['train', 'val', 'test']:\n",
    "        total = 0\n",
    "        for cls in CLASSES:\n",
    "            count = len(os.listdir(os.path.join(DEST_DIR, split, cls)))\n",
    "            total += count\n",
    "            print(f'{split}/{cls}: {count}')\n",
    "        print(f'Total {split}: {total}\\n')\n",
    "\n",
    "if __name__ == '__main__':\n",
    "    # Create empty directory structure\n",
    "    create_directory_structure()\n",
    "    \n",
    "    # Split and copy files\n",
    "    split_and_copy()\n",
    "    \n",
    "    # Verify results\n",
    "    verify_splits()"
   ]
  },
  {
   "cell_type": "code",
   "execution_count": null,
   "id": "09903be4",
   "metadata": {},
   "outputs": [
    {
     "name": "stdout",
     "output_type": "stream",
     "text": [
      "Created: C:\\Users\\hatem\\codes\\breast cancer detection for course project\\data\\train\\benign\n",
      "Created: C:\\Users\\hatem\\codes\\breast cancer detection for course project\\data\\train\\malignant\n",
      "Created: C:\\Users\\hatem\\codes\\breast cancer detection for course project\\data\\val\\benign\n",
      "Created: C:\\Users\\hatem\\codes\\breast cancer detection for course project\\data\\val\\malignant\n",
      "Created: C:\\Users\\hatem\\codes\\breast cancer detection for course project\\data\\test\\benign\n",
      "Created: C:\\Users\\hatem\\codes\\breast cancer detection for course project\\data\\test\\malignant\n",
      "𝗘𝗥𝗥𝗢𝗥: Missing directory C:\\Users\\hatem\\codes\\breast cancer detection for course project\\pic\\benign\n",
      "Current working directory: c:\\Users\\hatem\\codes\\breast cancer detection for course project\n",
      "Full path attempted: C:\\Users\\hatem\\codes\\breast cancer detection for course project\\pic\\benign\n"
     ]
    },
    {
     "ename": "SystemExit",
     "evalue": "1",
     "output_type": "error",
     "traceback": [
      "An exception has occurred, use %tb to see the full traceback.\n",
      "\u001b[31mSystemExit\u001b[39m\u001b[31m:\u001b[39m 1\n"
     ]
    },
    {
     "name": "stderr",
     "output_type": "stream",
     "text": [
      "C:\\Users\\hatem\\AppData\\Roaming\\Python\\Python311\\site-packages\\IPython\\core\\interactiveshell.py:3557: UserWarning: To exit: use 'exit', 'quit', or Ctrl-D.\n",
      "  warn(\"To exit: use 'exit', 'quit', or Ctrl-D.\", stacklevel=1)\n"
     ]
    }
   ],
   "source": [
    "\n",
    "\n",
    "\n",
    "SOURCE_DIR = r'C:\\Users\\hatem\\codes\\breast cancer detection for course project\\pic'\n",
    "DEST_DIR = r'C:\\Users\\hatem\\codes\\breast cancer detection for course project\\data'\n",
    "CLASSES = ['benign', 'malignant']\n",
    "SPLIT_RATIOS = (0.7, 0.15, 0.15)  # Train, Val, Test\n",
    "\n",
    "def create_directory_structure():\n",
    "    \"\"\"Create empty directory structure\"\"\"\n",
    "    for split in ['train', 'val', 'test']:\n",
    "        for cls in CLASSES:\n",
    "            path = os.path.join(DEST_DIR, split, cls)\n",
    "            os.makedirs(path, exist_ok=True)\n",
    "            print(f'Created: {path}')\n",
    "\n",
    "def split_and_copy():\n",
    "    \"\"\"Split data and copy to destination directories\"\"\"\n",
    "    for cls in CLASSES:\n",
    "        class_path = os.path.join(SOURCE_DIR, cls)\n",
    "        \n",
    "        #\n",
    "        if not os.path.exists(class_path):\n",
    "            print(f\"𝗘𝗥𝗥𝗢𝗥: Missing directory {class_path}\")\n",
    "            print(f\"Current working directory: {os.getcwd()}\")\n",
    "            print(\"Full path attempted:\", os.path.abspath(class_path))\n",
    "            raise SystemExit(1)\n",
    "            \n",
    "        # Get list of files\n",
    "        files = [f for f in os.listdir(class_path) \n",
    "                if os.path.isfile(os.path.join(class_path, f))]\n",
    "        print(f'\\nProcessing {cls}: {len(files)} images')\n",
    "        \n",
    "        # Split files\n",
    "        train_files, temp_files = train_test_split(\n",
    "            files, test_size=0.3, random_state=42  # 30% for val+test\n",
    "        )\n",
    "        val_files, test_files = train_test_split(\n",
    "            temp_files, test_size=0.5, random_state=42  # Split 30% into 15% val + 15% test\n",
    "        )\n",
    "        \n",
    "        # Copy files\n",
    "        def copy_files(files, split):\n",
    "            src = os.path.join(SOURCE_DIR, cls)\n",
    "            dst = os.path.join(DEST_DIR, split, cls)\n",
    "            for f in files:\n",
    "                shutil.copy(os.path.join(src, f), dst)\n",
    "        \n",
    "        copy_files(train_files, 'train')\n",
    "        copy_files(val_files, 'val')\n",
    "        copy_files(test_files, 'test')\n",
    "\n",
    "def verify_splits():\n",
    "    \"\"\"Verify final distribution\"\"\"\n",
    "    print('\\nVerification:')\n",
    "    for split in ['train', 'val', 'test']:\n",
    "        print(f'\\n{split.upper()}:')\n",
    "        for cls in CLASSES:\n",
    "            path = os.path.join(DEST_DIR, split, cls)\n",
    "            count = len(os.listdir(path))\n",
    "            print(f'{cls}: {count} images')\n",
    "\n",
    "if __name__ == '__main__':\n",
    "    create_directory_structure()\n",
    "    split_and_copy()\n",
    "    verify_splits()"
   ]
  },
  {
   "cell_type": "code",
   "execution_count": 10,
   "id": "18bda188",
   "metadata": {},
   "outputs": [
    {
     "name": "stdout",
     "output_type": "stream",
     "text": [
      "\n",
      "=== PATH VERIFICATION ===\n",
      "1. SOURCE_DIR exists? True\n",
      "2. Benign folder exists? False\n",
      "3. Malignant folder exists? False\n",
      "4. Full benign path: C:\\Users\\hatem\\codes\\breast cancer detection for course project\\pic\\benign\n",
      "5. Current working directory: c:\\Users\\hatem\\codes\\breast cancer detection for course project\n",
      "=========================\n",
      "\n"
     ]
    }
   ],
   "source": [
    "# Add this right after the imports\n",
    "print(\"\\n=== PATH VERIFICATION ===\")\n",
    "print(\"1. SOURCE_DIR exists?\", os.path.exists(SOURCE_DIR))\n",
    "print(\"2. Benign folder exists?\", os.path.exists(os.path.join(SOURCE_DIR, 'benign')))\n",
    "print(\"3. Malignant folder exists?\", os.path.exists(os.path.join(SOURCE_DIR, 'malignant')))\n",
    "print(\"4. Full benign path:\", os.path.abspath(os.path.join(SOURCE_DIR, 'benign')))\n",
    "print(\"5. Current working directory:\", os.getcwd())  # Corrected line\n",
    "print(\"=========================\\n\")"
   ]
  },
  {
   "cell_type": "code",
   "execution_count": null,
   "id": "3a0c9e42",
   "metadata": {},
   "outputs": [
    {
     "name": "stdout",
     "output_type": "stream",
     "text": [
      "Created: data\\train\\benign\n",
      "Created: data\\train\\malignant\n",
      "Created: data\\val\\benign\n",
      "Created: data\\val\\malignant\n",
      "Created: data\\test\\benign\n",
      "Created: data\\test\\malignant\n",
      "\n",
      "Total benign images: 4574\n",
      "benign split:\n",
      "- Train: 3201\n",
      "- Val: 686\n",
      "- Test: 687\n",
      "\n",
      "Total malignant images: 4442\n",
      "malignant split:\n",
      "- Train: 3109\n",
      "- Val: 666\n",
      "- Test: 667\n",
      "\n",
      "Final verification:\n",
      "train/benign: 3201\n",
      "train/malignant: 3109\n",
      "Total train: 6310\n",
      "\n",
      "val/benign: 686\n",
      "val/malignant: 666\n",
      "Total val: 1352\n",
      "\n",
      "test/benign: 687\n",
      "test/malignant: 667\n",
      "Total test: 1354\n",
      "\n"
     ]
    }
   ],
   "source": [
    "\n",
    "\n",
    "\n",
    "SOURCE_DIR = 'pic'  # Contains train/ and val/\n",
    "DEST_DIR = 'data'   # Will create train/val/test here\n",
    "CLASSES = ['benign', 'malignant']\n",
    "SPLIT_RATIOS = (0.7, 0.15, 0.15)  # Train, Val, Test\n",
    "\n",
    "def create_directory_structure():\n",
    "    \"\"\"Create empty directory structure\"\"\"\n",
    "    for split in ['train', 'val', 'test']:\n",
    "        for cls in CLASSES:\n",
    "            path = os.path.join(DEST_DIR, split, cls)\n",
    "            os.makedirs(path, exist_ok=True)\n",
    "            print(f'Created: {path}')\n",
    "\n",
    "def collect_and_split():\n",
    "    \"\"\"Collect from existing splits and create new test set\"\"\"\n",
    "    for cls in CLASSES:\n",
    "        # Collect all images from both train and val\n",
    "        all_images = []\n",
    "        \n",
    "        # From original train\n",
    "        train_src = os.path.join(SOURCE_DIR, 'train', cls)\n",
    "        all_images += [os.path.join(train_src, f) for f in os.listdir(train_src)]\n",
    "        \n",
    "        # From original val\n",
    "        val_src = os.path.join(SOURCE_DIR, 'val', cls)\n",
    "        all_images += [os.path.join(val_src, f) for f in os.listdir(val_src)]\n",
    "        \n",
    "        print(f'\\nTotal {cls} images:', len(all_images))\n",
    "        \n",
    "        # Split into new ratios (70% train, 15% val, 15% test)\n",
    "        train_files, temp_files = train_test_split(\n",
    "            all_images, \n",
    "            test_size=SPLIT_RATIOS[1] + SPLIT_RATIOS[2],\n",
    "            random_state=42\n",
    "        )\n",
    "        \n",
    "        val_files, test_files = train_test_split(\n",
    "            temp_files,\n",
    "            test_size=SPLIT_RATIOS[2]/(SPLIT_RATIOS[1] + SPLIT_RATIOS[2]),\n",
    "            random_state=42\n",
    "        )\n",
    "        \n",
    "        # Copy to new structure\n",
    "        def copy_files(files, split):\n",
    "            for src_path in files:\n",
    "                fname = os.path.basename(src_path)\n",
    "                dst_path = os.path.join(DEST_DIR, split, cls, fname)\n",
    "                shutil.copy(src_path, dst_path)\n",
    "        \n",
    "        copy_files(train_files, 'train')\n",
    "        copy_files(val_files, 'val')\n",
    "        copy_files(test_files, 'test')\n",
    "        \n",
    "        print(f'{cls} split:')\n",
    "        print(f'- Train: {len(train_files)}')\n",
    "        print(f'- Val: {len(val_files)}')\n",
    "        print(f'- Test: {len(test_files)}')\n",
    "\n",
    "def verify_splits():\n",
    "    \"\"\"Verify final distribution\"\"\"\n",
    "    print('\\nFinal verification:')\n",
    "    for split in ['train', 'val', 'test']:\n",
    "        total = 0\n",
    "        for cls in CLASSES:\n",
    "            count = len(os.listdir(os.path.join(DEST_DIR, split, cls)))\n",
    "            total += count\n",
    "            print(f'{split}/{cls}: {count}')\n",
    "        print(f'Total {split}: {total}\\n')\n",
    "\n",
    "if __name__ == '__main__':\n",
    "    create_directory_structure()\n",
    "    collect_and_split()\n",
    "    verify_splits()"
   ]
  },
  {
   "cell_type": "markdown",
   "id": "d2473464",
   "metadata": {},
   "source": [
    "Count the images"
   ]
  },
  {
   "cell_type": "code",
   "execution_count": null,
   "id": "82c1d195",
   "metadata": {},
   "outputs": [
    {
     "name": "stdout",
     "output_type": "stream",
     "text": [
      " Split    Benign    Malignant    Total\n",
      "-------  --------  -----------  -------\n",
      " TRAIN     3201       3109       6310\n",
      "  VAL      686         666       1352\n",
      " TEST      687         667       1354\n",
      "\n",
      "Class Balance Ratios:\n",
      "TRAIN: Benign:Malignant = 1.03:1\n",
      "VAL: Benign:Malignant = 1.03:1\n",
      "TEST: Benign:Malignant = 1.03:1\n"
     ]
    }
   ],
   "source": [
    " \n",
    "\n",
    "def count_images(base_path=\"data\"):\n",
    "    counts = {}\n",
    "    \n",
    "    for split in [\"train\", \"val\", \"test\"]:\n",
    "        counts[split] = {}\n",
    "        for cls in [\"benign\", \"malignant\"]:\n",
    "            path = os.path.join(base_path, split, cls)\n",
    "            if os.path.exists(path):\n",
    "                num_images = len([f for f in os.listdir(path) \n",
    "                                if os.path.isfile(os.path.join(path, f))])\n",
    "                counts[split][cls] = num_images\n",
    "            else:\n",
    "                counts[split][cls] = 0\n",
    "                \n",
    "    # Create table\n",
    "    table = []\n",
    "    for split in counts:\n",
    "        row = [split.upper()]\n",
    "        row.append(counts[split][\"benign\"])\n",
    "        row.append(counts[split][\"malignant\"])\n",
    "        row.append(sum(counts[split].values()))\n",
    "        table.append(row)\n",
    "    \n",
    "    headers = [\"Split\", \"Benign\", \"Malignant\", \"Total\"]\n",
    "    print(tabulate(table, headers=headers, numalign=\"center\", stralign=\"center\"))\n",
    "    print(\"\\nClass Balance Ratios:\")\n",
    "    for split in counts:\n",
    "        total = sum(counts[split].values())\n",
    "        if total > 0:\n",
    "            ratio = counts[split][\"benign\"] / counts[split][\"malignant\"]\n",
    "            print(f\"{split.upper()}: Benign:Malignant = {ratio:.2f}:1\")\n",
    "\n",
    "if __name__ == \"__main__\":\n",
    "    count_images()"
   ]
  },
  {
   "cell_type": "markdown",
   "id": "191ced51",
   "metadata": {},
   "source": [
    "Import the required liaberis to do deep learning"
   ]
  },
  {
   "cell_type": "code",
   "execution_count": 3,
   "id": "96811670",
   "metadata": {},
   "outputs": [],
   "source": [
    "import tensorflow as tf\n",
    "from tensorflow.keras.preprocessing.image import ImageDataGenerator\n",
    "from tensorflow.keras.layers import Dense, Dropout, Flatten, Activation\n",
    "from tensorflow.keras import models, layers\n",
    "from tensorflow.keras.callbacks import ModelCheckpoint, EarlyStopping\n",
    "from tensorflow.keras.applications import VGG16\n",
    "from tensorflow.keras.optimizers import Adam\n",
    "import cv2\n",
    "import matplotlib as plt"
   ]
  },
  {
   "cell_type": "markdown",
   "id": "9c777baf",
   "metadata": {},
   "source": [
    "Assign the variables to the data"
   ]
  },
  {
   "cell_type": "code",
   "execution_count": 4,
   "id": "88dd864b",
   "metadata": {},
   "outputs": [],
   "source": [
    "batch_size = 64\n",
    "image_size = 150\n",
    "\n",
    "train_dir = r'C:\\Users\\hatem\\codes\\breast cancer detection for course project\\data\\train'\n",
    "validation_dir = r'C:\\Users\\hatem\\codes\\breast cancer detection for course project\\data\\val'\n",
    "test_dir = r'C:\\Users\\hatem\\codes\\breast cancer detection for course project\\data\\test'"
   ]
  },
  {
   "cell_type": "markdown",
   "id": "838ecf8c",
   "metadata": {},
   "source": [
    "Generate more dato for the model and use VGG16"
   ]
  },
  {
   "cell_type": "code",
   "execution_count": 5,
   "id": "02bee2e0",
   "metadata": {},
   "outputs": [
    {
     "name": "stdout",
     "output_type": "stream",
     "text": [
      "Found 6310 images belonging to 2 classes.\n",
      "Found 1352 images belonging to 2 classes.\n"
     ]
    }
   ],
   "source": [
    "train_datagen = ImageDataGenerator(rescale=1./255,\n",
    "                                   rotation_range=28,\n",
    "                                   height_shift_range = 0.1,\n",
    "                                   width_shift_range = 0.1,\n",
    "                                   shear_range = 0.2 ,\n",
    "                                   horizontal_flip = True,\n",
    "                                   zoom_range = 0.3,\n",
    "                                   fill_mode = 'reflect',\n",
    "                                   brightness_range=[0.8,1.2]\n",
    "\n",
    "                                   )\n",
    "\n",
    "test_datagen = ImageDataGenerator(rescale=1.0/255)\n",
    "\n",
    "train_generator = train_datagen.flow_from_directory(\n",
    "    train_dir,\n",
    "    target_size=(image_size, image_size),\n",
    "    batch_size = batch_size,\n",
    "    class_mode = 'binary'\n",
    ")\n",
    "\n",
    "validation_generator = test_datagen.flow_from_directory(\n",
    "    validation_dir,\n",
    "    target_size = (image_size, image_size),\n",
    "    batch_size=batch_size,\n",
    "    class_mode = 'binary'\n",
    "\n",
    ")\n",
    "\n",
    "conv_base = VGG16(weights='imagenet', include_top=False,input_shape=(image_size,\n",
    "                                                                     image_size,3))\n",
    "\n",
    "conv_base.trainable = False"
   ]
  },
  {
   "cell_type": "markdown",
   "id": "c69478f7",
   "metadata": {},
   "source": [
    "Giving the model the way to learn"
   ]
  },
  {
   "cell_type": "code",
   "execution_count": null,
   "id": "0ec5db28",
   "metadata": {},
   "outputs": [],
   "source": [
    "model2 = models.Sequential()    #Use sequential model in this model\n",
    "model2.add(conv_base) #Add the convoloution layer \n",
    "model2.add(layers.Flatten())#We must flatten the images before entering to model and the pics must be in ONE DIMENSION\n",
    "model2.add(layers.Dense(512))#We use 512 neural network because it is classification between malignant and benign \n",
    "model2.add(layers.Activation('relu'))#Relu is very good to make the data more complex\n",
    "model2.add(layers.Dropout(0.2))#dropout to aviod the overfit and it is in small amount\n",
    "model2.add(layers.Dense(1))#1 neural because it choose betweem two outputs only\n",
    "model2.add(layers.Activation('sigmoid'))#sigmoid is the best one here to select the higher probability between two \n",
    "\n",
    "\n",
    "\n",
    "checkpointer = ModelCheckpoint(filepath=r'C:\\Users\\hatem\\codes\\breast cancer detection for course project\\model.best.keras', monitor='val_loss',\n",
    "                               save_best_only=True)#Do checkpointer to save the best result model \n",
    "early = EarlyStopping(monitor='val_accuracy', min_delta=0.001,patience=5,verbose=1,mode='max',\n",
    "restore_best_weights=True )#Do early stopping to reduce overfit\n",
    "\n",
    "model2.compile(optimizer=Adam(learning_rate=1e-4),\n",
    "               loss='binary_crossentropy',\n",
    "               metrics=['accuracy'])#Choosing adam for the optimizer and loss is binary bec. it classifies between two"
   ]
  },
  {
   "cell_type": "code",
   "execution_count": 7,
   "id": "3b2757d7",
   "metadata": {},
   "outputs": [
    {
     "name": "stderr",
     "output_type": "stream",
     "text": [
      "c:\\Users\\hatem\\AppData\\Local\\Programs\\Python\\Python311\\Lib\\site-packages\\keras\\src\\trainers\\data_adapters\\py_dataset_adapter.py:121: UserWarning: Your `PyDataset` class should call `super().__init__(**kwargs)` in its constructor. `**kwargs` can include `workers`, `use_multiprocessing`, `max_queue_size`. Do not pass these arguments to `fit()`, as they will be ignored.\n",
      "  self._warn_if_super_not_called()\n"
     ]
    },
    {
     "name": "stdout",
     "output_type": "stream",
     "text": [
      "Epoch 1/8\n",
      "\u001b[1m98/98\u001b[0m \u001b[32m━━━━━━━━━━━━━━━━━━━━\u001b[0m\u001b[37m\u001b[0m \u001b[1m199s\u001b[0m 2s/step - accuracy: 0.5704 - loss: 0.6768 - val_accuracy: 0.8028 - val_loss: 0.5106\n",
      "Epoch 2/8\n",
      "\u001b[1m 1/98\u001b[0m \u001b[37m━━━━━━━━━━━━━━━━━━━━\u001b[0m \u001b[1m2:18\u001b[0m 1s/step - accuracy: 0.7656 - loss: 0.5104"
     ]
    },
    {
     "name": "stderr",
     "output_type": "stream",
     "text": [
      "c:\\Users\\hatem\\AppData\\Local\\Programs\\Python\\Python311\\Lib\\site-packages\\keras\\src\\trainers\\epoch_iterator.py:107: UserWarning: Your input ran out of data; interrupting training. Make sure that your dataset or generator can generate at least `steps_per_epoch * epochs` batches. You may need to use the `.repeat()` function when building your dataset.\n",
      "  self._interrupted_warning()\n"
     ]
    },
    {
     "name": "stdout",
     "output_type": "stream",
     "text": [
      "\u001b[1m98/98\u001b[0m \u001b[32m━━━━━━━━━━━━━━━━━━━━\u001b[0m\u001b[37m\u001b[0m \u001b[1m37s\u001b[0m 368ms/step - accuracy: 0.7656 - loss: 0.5104 - val_accuracy: 0.7999 - val_loss: 0.5097\n",
      "Epoch 3/8\n",
      "\u001b[1m98/98\u001b[0m \u001b[32m━━━━━━━━━━━━━━━━━━━━\u001b[0m\u001b[37m\u001b[0m \u001b[1m187s\u001b[0m 2s/step - accuracy: 0.7388 - loss: 0.5442 - val_accuracy: 0.8229 - val_loss: 0.4546\n",
      "Epoch 4/8\n",
      "\u001b[1m98/98\u001b[0m \u001b[32m━━━━━━━━━━━━━━━━━━━━\u001b[0m\u001b[37m\u001b[0m \u001b[1m34s\u001b[0m 340ms/step - accuracy: 0.7031 - loss: 0.5391 - val_accuracy: 0.8229 - val_loss: 0.4528\n",
      "Epoch 5/8\n",
      "\u001b[1m98/98\u001b[0m \u001b[32m━━━━━━━━━━━━━━━━━━━━\u001b[0m\u001b[37m\u001b[0m \u001b[1m187s\u001b[0m 2s/step - accuracy: 0.7766 - loss: 0.4864 - val_accuracy: 0.8363 - val_loss: 0.4220\n",
      "Epoch 6/8\n",
      "\u001b[1m98/98\u001b[0m \u001b[32m━━━━━━━━━━━━━━━━━━━━\u001b[0m\u001b[37m\u001b[0m \u001b[1m33s\u001b[0m 325ms/step - accuracy: 0.8594 - loss: 0.4433 - val_accuracy: 0.8289 - val_loss: 0.4237\n",
      "Epoch 7/8\n",
      "\u001b[1m98/98\u001b[0m \u001b[32m━━━━━━━━━━━━━━━━━━━━\u001b[0m\u001b[37m\u001b[0m \u001b[1m184s\u001b[0m 2s/step - accuracy: 0.7900 - loss: 0.4698 - val_accuracy: 0.8356 - val_loss: 0.4038\n",
      "Epoch 8/8\n",
      "\u001b[1m98/98\u001b[0m \u001b[32m━━━━━━━━━━━━━━━━━━━━\u001b[0m\u001b[37m\u001b[0m \u001b[1m34s\u001b[0m 334ms/step - accuracy: 0.7500 - loss: 0.4531 - val_accuracy: 0.8363 - val_loss: 0.4023\n",
      "Restoring model weights from the end of the best epoch: 5.\n"
     ]
    }
   ],
   "source": [
    "from tensorflow.keras import optimizers\n",
    "\n",
    "\n",
    "for layer in conv_base.layers[:-1]:\n",
    "    layer.trainable = False\n",
    "\n",
    "model2.compile(optimizer=optimizers.Adam(1e-5),loss='binary_crossentropy',\n",
    "               metrics = ['accuracy'])\n",
    "\n",
    "history = model2.fit(train_generator,\n",
    "                     steps_per_epoch=train_generator.samples//train_generator.batch_size,\n",
    "                     epochs=8,\n",
    "                     validation_data=validation_generator,\n",
    "                     validation_steps = validation_generator.samples//train_generator.batch_size,\n",
    "                     verbose =1,\n",
    "                     callbacks=[checkpointer,early])    "
   ]
  },
  {
   "cell_type": "code",
   "execution_count": 11,
   "id": "591ec229",
   "metadata": {},
   "outputs": [
    {
     "name": "stdout",
     "output_type": "stream",
     "text": [
      "Epoch 1/10\n",
      "\u001b[1m99/99\u001b[0m \u001b[32m━━━━━━━━━━━━━━━━━━━━\u001b[0m\u001b[37m\u001b[0m \u001b[1m149s\u001b[0m 1s/step - accuracy: 0.6977 - loss: 0.5665 - val_accuracy: 0.8207 - val_loss: 0.3977\n",
      "Epoch 2/10\n",
      "\u001b[1m99/99\u001b[0m \u001b[32m━━━━━━━━━━━━━━━━━━━━\u001b[0m\u001b[37m\u001b[0m \u001b[1m159s\u001b[0m 2s/step - accuracy: 0.7977 - loss: 0.4325 - val_accuracy: 0.8713 - val_loss: 0.3308\n",
      "Epoch 3/10\n",
      "\u001b[1m99/99\u001b[0m \u001b[32m━━━━━━━━━━━━━━━━━━━━\u001b[0m\u001b[37m\u001b[0m \u001b[1m156s\u001b[0m 2s/step - accuracy: 0.8405 - loss: 0.3683 - val_accuracy: 0.8743 - val_loss: 0.3102\n",
      "Epoch 4/10\n",
      "\u001b[1m99/99\u001b[0m \u001b[32m━━━━━━━━━━━━━━━━━━━━\u001b[0m\u001b[37m\u001b[0m \u001b[1m156s\u001b[0m 2s/step - accuracy: 0.8455 - loss: 0.3479 - val_accuracy: 0.8839 - val_loss: 0.2947\n",
      "Epoch 5/10\n",
      "\u001b[1m99/99\u001b[0m \u001b[32m━━━━━━━━━━━━━━━━━━━━\u001b[0m\u001b[37m\u001b[0m \u001b[1m155s\u001b[0m 2s/step - accuracy: 0.8533 - loss: 0.3361 - val_accuracy: 0.8638 - val_loss: 0.3237\n",
      "Epoch 6/10\n",
      "\u001b[1m99/99\u001b[0m \u001b[32m━━━━━━━━━━━━━━━━━━━━\u001b[0m\u001b[37m\u001b[0m \u001b[1m154s\u001b[0m 2s/step - accuracy: 0.8558 - loss: 0.3373 - val_accuracy: 0.8847 - val_loss: 0.2886\n",
      "Epoch 7/10\n",
      "\u001b[1m99/99\u001b[0m \u001b[32m━━━━━━━━━━━━━━━━━━━━\u001b[0m\u001b[37m\u001b[0m \u001b[1m154s\u001b[0m 2s/step - accuracy: 0.8626 - loss: 0.3127 - val_accuracy: 0.8795 - val_loss: 0.2836\n",
      "Epoch 8/10\n",
      "\u001b[1m99/99\u001b[0m \u001b[32m━━━━━━━━━━━━━━━━━━━━\u001b[0m\u001b[37m\u001b[0m \u001b[1m153s\u001b[0m 2s/step - accuracy: 0.8612 - loss: 0.3160 - val_accuracy: 0.8996 - val_loss: 0.2471\n",
      "Epoch 9/10\n",
      "\u001b[1m99/99\u001b[0m \u001b[32m━━━━━━━━━━━━━━━━━━━━\u001b[0m\u001b[37m\u001b[0m \u001b[1m162s\u001b[0m 2s/step - accuracy: 0.8711 - loss: 0.3001 - val_accuracy: 0.8906 - val_loss: 0.2628\n",
      "Epoch 10/10\n",
      "\u001b[1m99/99\u001b[0m \u001b[32m━━━━━━━━━━━━━━━━━━━━\u001b[0m\u001b[37m\u001b[0m \u001b[1m161s\u001b[0m 2s/step - accuracy: 0.8819 - loss: 0.2852 - val_accuracy: 0.8802 - val_loss: 0.2767\n",
      "Restoring model weights from the end of the best epoch: 8.\n"
     ]
    }
   ],
   "source": [
    "model2 = models.Sequential()\n",
    "model2.add(conv_base)\n",
    "model2.add(layers.Flatten())\n",
    "model2.add(layers.Dense(512))\n",
    "model2.add(layers.Activation('relu'))\n",
    "model2.add(layers.Dropout(0.2))\n",
    "model2.add(layers.Dense(1))\n",
    "model2.add(layers.Activation('sigmoid'))\n",
    "\n",
    "\n",
    "\n",
    "checkpointer = ModelCheckpoint(filepath=r'C:\\Users\\hatem\\codes\\breast cancer detection for course project\\model.best.keras', monitor='val_loss',\n",
    "                               save_best_only=True)\n",
    "early = EarlyStopping(monitor='val_accuracy', min_delta=0.001,patience=5,verbose=1,mode='max',\n",
    "restore_best_weights=True )\n",
    "\n",
    "model2.compile(optimizer=Adam(learning_rate=1e-4),\n",
    "               loss='binary_crossentropy',\n",
    "               metrics=['accuracy'])\n",
    "history = model2.fit(\n",
    "    train_generator,\n",
    "    steps_per_epoch = math.ceil(train_generator.samples / train_generator.batch_size)\n",
    ",\n",
    "    epochs = 10,\n",
    "    validation_data=validation_generator,\n",
    "    validation_steps = validation_generator.samples // validation_generator.batch_size,\n",
    "    callbacks=[checkpointer, early]\n",
    ")"
   ]
  },
  {
   "cell_type": "markdown",
   "id": "f23537fa",
   "metadata": {},
   "source": [
    "90% TEST ACCUARCY!!"
   ]
  },
  {
   "cell_type": "code",
   "execution_count": 16,
   "id": "50c3ecfd",
   "metadata": {},
   "outputs": [
    {
     "name": "stdout",
     "output_type": "stream",
     "text": [
      "Found 1354 images belonging to 2 classes.\n"
     ]
    },
    {
     "name": "stderr",
     "output_type": "stream",
     "text": [
      "c:\\Users\\hatem\\AppData\\Local\\Programs\\Python\\Python311\\Lib\\site-packages\\keras\\src\\trainers\\data_adapters\\py_dataset_adapter.py:121: UserWarning: Your `PyDataset` class should call `super().__init__(**kwargs)` in its constructor. `**kwargs` can include `workers`, `use_multiprocessing`, `max_queue_size`. Do not pass these arguments to `fit()`, as they will be ignored.\n",
      "  self._warn_if_super_not_called()\n"
     ]
    },
    {
     "name": "stdout",
     "output_type": "stream",
     "text": [
      "\u001b[1m21/21\u001b[0m \u001b[32m━━━━━━━━━━━━━━━━━━━━\u001b[0m\u001b[37m\u001b[0m \u001b[1m27s\u001b[0m 1s/step - accuracy: 0.9110 - loss: 0.2314\n",
      "test acc: 0.9055059552192688\n",
      "test loss 0.24942484498023987\n"
     ]
    }
   ],
   "source": [
    "test_generator = test_datagen.flow_from_directory(\n",
    "    test_dir,\n",
    "    target_size = (image_size, image_size),\n",
    "    batch_size = 64,\n",
    "    class_mode = 'binary'\n",
    "\n",
    ")\n",
    "test_loss, test_acc = model2.evaluate(test_generator,steps=math.ceil(test_generator.samples//test_generator.batch_size))\n",
    "print('test acc:',test_acc)\n",
    "print('test loss',test_loss)"
   ]
  },
  {
   "cell_type": "markdown",
   "id": "eced62fa",
   "metadata": {},
   "source": [
    "I used the second one because it has better credentails"
   ]
  },
  {
   "cell_type": "code",
   "execution_count": null,
   "id": "11e6258c",
   "metadata": {},
   "outputs": [
    {
     "name": "stderr",
     "output_type": "stream",
     "text": [
      "WARNING:absl:You are saving your model as an HDF5 file via `model.save()` or `keras.saving.save_model(model)`. This file format is considered legacy. We recommend using instead the native Keras format, e.g. `model.save('my_model.keras')` or `keras.saving.save_model(model, 'my_model.keras')`. \n"
     ]
    }
   ],
   "source": [
    "model2.save(\"breast_cancer_modelbest.h5\")"
   ]
  }
 ],
 "metadata": {
  "kernelspec": {
   "display_name": "Python 3",
   "language": "python",
   "name": "python3"
  },
  "language_info": {
   "codemirror_mode": {
    "name": "ipython",
    "version": 3
   },
   "file_extension": ".py",
   "mimetype": "text/x-python",
   "name": "python",
   "nbconvert_exporter": "python",
   "pygments_lexer": "ipython3",
   "version": "3.11.0"
  }
 },
 "nbformat": 4,
 "nbformat_minor": 5
}
